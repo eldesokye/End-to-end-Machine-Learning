{
 "cells": [
  {
   "cell_type": "code",
   "execution_count": null,
   "id": "d3480932",
   "metadata": {},
   "outputs": [
    {
     "name": "stdout",
     "output_type": "stream",
     "text": [
      "Requirement already satisfied: box in d:\\anaconda\\lib\\site-packages (0.1.5)\n",
      "Requirement already satisfied: aiohttp>=3.8.1 in d:\\anaconda\\lib\\site-packages (from box) (3.10.5)\n",
      "Requirement already satisfied: columnar==1.3.1 in d:\\anaconda\\lib\\site-packages (from box) (1.3.1)\n",
      "Requirement already satisfied: executing==0.8.2 in d:\\anaconda\\lib\\site-packages (from box) (0.8.2)\n",
      "Requirement already satisfied: loguru in d:\\anaconda\\lib\\site-packages (from box) (0.7.3)\n",
      "Requirement already satisfied: python-dateutil==2.8.2 in d:\\anaconda\\lib\\site-packages (from box) (2.8.2)\n",
      "Requirement already satisfied: timeago==1.0.14 in d:\\anaconda\\lib\\site-packages (from box) (1.0.14)\n",
      "Requirement already satisfied: toolz in d:\\anaconda\\lib\\site-packages (from columnar==1.3.1->box) (0.12.0)\n",
      "Requirement already satisfied: wcwidth in d:\\anaconda\\lib\\site-packages (from columnar==1.3.1->box) (0.2.5)\n",
      "Requirement already satisfied: six>=1.5 in d:\\anaconda\\lib\\site-packages (from python-dateutil==2.8.2->box) (1.16.0)\n",
      "Requirement already satisfied: aiohappyeyeballs>=2.3.0 in d:\\anaconda\\lib\\site-packages (from aiohttp>=3.8.1->box) (2.4.0)\n",
      "Requirement already satisfied: aiosignal>=1.1.2 in d:\\anaconda\\lib\\site-packages (from aiohttp>=3.8.1->box) (1.2.0)\n",
      "Requirement already satisfied: attrs>=17.3.0 in d:\\anaconda\\lib\\site-packages (from aiohttp>=3.8.1->box) (25.1.0)\n",
      "Requirement already satisfied: frozenlist>=1.1.1 in d:\\anaconda\\lib\\site-packages (from aiohttp>=3.8.1->box) (1.4.0)\n",
      "Requirement already satisfied: multidict<7.0,>=4.5 in d:\\anaconda\\lib\\site-packages (from aiohttp>=3.8.1->box) (6.0.4)\n",
      "Requirement already satisfied: yarl<2.0,>=1.0 in d:\\anaconda\\lib\\site-packages (from aiohttp>=3.8.1->box) (1.11.0)\n",
      "Requirement already satisfied: colorama>=0.3.4 in d:\\anaconda\\lib\\site-packages (from loguru->box) (0.4.6)\n",
      "Requirement already satisfied: win32-setctime>=1.0.0 in d:\\anaconda\\lib\\site-packages (from loguru->box) (1.2.0)\n",
      "Requirement already satisfied: idna>=2.0 in d:\\anaconda\\lib\\site-packages (from yarl<2.0,>=1.0->aiohttp>=3.8.1->box) (3.7)\n",
      "Note: you may need to restart the kernel to use updated packages.\n"
     ]
    }
   ],
   "source": [
    "\n",
    "from box import ConfigBox \n",
    "d2 = ConfigBox({\"key\" : 'value' , \"key2\":\"value\"})"
   ]
  },
  {
   "cell_type": "code",
   "execution_count": 2,
   "id": "f6fa1b7b",
   "metadata": {},
   "outputs": [
    {
     "data": {
      "text/plain": [
       "ConfigBox({'key': 'value', 'key2': 'value'})"
      ]
     },
     "execution_count": 2,
     "metadata": {},
     "output_type": "execute_result"
    }
   ],
   "source": [
    "d2"
   ]
  },
  {
   "cell_type": "code",
   "execution_count": null,
   "id": "02757d00",
   "metadata": {},
   "outputs": [],
   "source": []
  },
  {
   "cell_type": "code",
   "execution_count": null,
   "id": "e1de825a",
   "metadata": {},
   "outputs": [],
   "source": []
  }
 ],
 "metadata": {
  "kernelspec": {
   "display_name": "base",
   "language": "python",
   "name": "python3"
  },
  "language_info": {
   "codemirror_mode": {
    "name": "ipython",
    "version": 3
   },
   "file_extension": ".py",
   "mimetype": "text/x-python",
   "name": "python",
   "nbconvert_exporter": "python",
   "pygments_lexer": "ipython3",
   "version": "3.12.7"
  }
 },
 "nbformat": 4,
 "nbformat_minor": 5
}
